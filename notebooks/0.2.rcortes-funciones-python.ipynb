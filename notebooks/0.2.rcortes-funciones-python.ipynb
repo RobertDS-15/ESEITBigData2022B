{
 "cells": [
  {
   "cell_type": "markdown",
   "metadata": {},
   "source": [
    "Funciones en Python"
   ]
  },
  {
   "cell_type": "markdown",
   "metadata": {},
   "source": [
    "# funcion f(x, y, z)"
   ]
  },
  {
   "cell_type": "code",
   "execution_count": 1,
   "metadata": {},
   "outputs": [],
   "source": [
    "# funcion f(x, y, z) = x + y + z Forma matematica\n",
    "\n",
    "def f(x, y, z): # Forma de Python\n",
    "    result = x + y + z\n",
    "    \n",
    "    return result"
   ]
  },
  {
   "cell_type": "code",
   "execution_count": 2,
   "metadata": {},
   "outputs": [
    {
     "data": {
      "text/plain": [
       "6"
      ]
     },
     "execution_count": 2,
     "metadata": {},
     "output_type": "execute_result"
    }
   ],
   "source": [
    "f(x=5, y=3, z=-2)"
   ]
  },
  {
   "cell_type": "markdown",
   "metadata": {},
   "source": [
    "## Pseudo Código"
   ]
  },
  {
   "cell_type": "markdown",
   "metadata": {},
   "source": [
    "* pipeline Como viajan mis datos dentro del Script\n",
    "\n",
    "llamadaxxxx.csb --> read_data --> get_summary --> save_data -->> resumen_llamadasxxx.csv"
   ]
  },
  {
   "cell_type": "markdown",
   "metadata": {},
   "source": [
    "PSEUDO CODIGO\n",
    "def main()\n",
    "    get_data()\n",
    "    get_summary()\n",
    "    save_data() "
   ]
  },
  {
   "cell_type": "markdown",
   "metadata": {},
   "source": [
    "# Mas de funciones"
   ]
  },
  {
   "cell_type": "code",
   "execution_count": 4,
   "metadata": {},
   "outputs": [],
   "source": [
    "#Quiero una función que me calcule:\n",
    "# 1. La suma de todos los numero de una lista\n",
    "# 2. Minimo valor de la lista\n",
    "# 3. Maximo valor de la lista\n",
    "# 4. Calcular la media y la desviacióñ estandar"
   ]
  },
  {
   "cell_type": "code",
   "execution_count": 24,
   "metadata": {},
   "outputs": [],
   "source": [
    "from statistics import mean\n",
    "import numpy as np\n",
    "\n",
    "def calcular_min_max(lista_numeros, verbose=True):\n",
    "    '''\n",
    "    Retorna los valores minimo y maximo de una de lista de numeros\n",
    "    Args:\n",
    "        lista_numero: type list\n",
    "        verbose: \n",
    "    '''\n",
    "    min_value = min(lista_numeros)\n",
    "    max_value = max(lista_numeros)\n",
    "\n",
    "    if verbose == True:\n",
    "        print('Valor Minimo', min_value)\n",
    "        print('Valor Maximo', max_value)\n",
    "    else:\n",
    "        pass\n",
    "    return min_value, max_value\n",
    "\n",
    "\n",
    "def calcular_valores_centrales(lista_numeros, verbose=True):\n",
    "    '''Calcula la media y la desviación estandar de una lista de números\n",
    "\n",
    "    Args:\n",
    "        lista_numeros (list): Lista con valores númericos\n",
    "        verbose (bool, optional): Para decidir si imprimir mensajes\n",
    "\n",
    "    Returns:\n",
    "        Tuple: (media, dev_std)\n",
    "    '''\n",
    "    media = np.mean(lista_numeros)\n",
    "    dev_std = np.std(lista_numeros)\n",
    "\n",
    "    if verbose == True:\n",
    "        print('Media', media)\n",
    "        print('Desviación Estandar', dev_std)\n",
    "    else:\n",
    "        pass\n",
    "    return media, dev_std\n",
    "\n",
    "\n",
    "def calcular_valores(lista_numeros, verbose=True):\n",
    "    '''Retorna una tupla con valores suma, minimo, maximo, madia y desviacion estandar de una lista de numeros\n",
    "\n",
    "    Args:\n",
    "        lista_numeros (list): Lista con valores númericos\n",
    "        verbose (bool, optional): Para decidir si imprimir mensajes\n",
    "\n",
    "    Returns:\n",
    "        _type_: _description_\n",
    "    '''\n",
    "    suma                = np.sum(lista_numeros) # calcular_suma(lista_numeros)\n",
    "    min_val, max_val    = calcular_min_max(lista_numeros, verbose)\n",
    "    media, dev_std      = calcular_valores_centrales(lista_numeros)\n",
    "    return suma, min_val, max_val, media, dev_std"
   ]
  },
  {
   "cell_type": "code",
   "execution_count": 25,
   "metadata": {},
   "outputs": [
    {
     "name": "stdout",
     "output_type": "stream",
     "text": [
      "Valor Minimo 4\n",
      "Valor Maximo 21\n",
      "Media 9.4\n",
      "Desviación Estandar 6.086049621881176\n"
     ]
    },
    {
     "data": {
      "text/plain": [
       "(47, 4, 21, 9.4, 6.086049621881176)"
      ]
     },
     "execution_count": 25,
     "metadata": {},
     "output_type": "execute_result"
    }
   ],
   "source": [
    "from tabnanny import verbose\n",
    "\n",
    "\n",
    "lista_valores = [5, 4, 8, 9, 21]\n",
    "\n",
    "calcular_valores(lista_numeros=lista_valores, verbose=True)"
   ]
  },
  {
   "cell_type": "markdown",
   "metadata": {},
   "source": []
  }
 ],
 "metadata": {
  "kernelspec": {
   "display_name": "Python 3.9.2 64-bit",
   "language": "python",
   "name": "python3"
  },
  "language_info": {
   "codemirror_mode": {
    "name": "ipython",
    "version": 3
   },
   "file_extension": ".py",
   "mimetype": "text/x-python",
   "name": "python",
   "nbconvert_exporter": "python",
   "pygments_lexer": "ipython3",
   "version": "3.9.2"
  },
  "orig_nbformat": 4,
  "vscode": {
   "interpreter": {
    "hash": "b8cc2a1b9b262de2fb6181e4d0b96ab438788d3ea98c7b383526d7ab171adeeb"
   }
  }
 },
 "nbformat": 4,
 "nbformat_minor": 2
}
